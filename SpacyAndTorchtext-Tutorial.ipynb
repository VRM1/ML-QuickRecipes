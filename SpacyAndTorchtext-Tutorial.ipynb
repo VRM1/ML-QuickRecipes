{
 "cells": [
  {
   "cell_type": "markdown",
   "metadata": {},
   "source": [
    "This tutorial will use torchtext and spacy for preprocessing and creating data for pytorch language models. Here we will use, IMDB movie review dataset as an example."
   ]
  },
  {
   "cell_type": "code",
   "execution_count": 1,
   "metadata": {},
   "outputs": [],
   "source": [
    "import torch\n",
    "from torchtext import data\n",
    "from torchtext import datasets\n",
    "from torchtext.data import Field, LabelField, TabularDataset\n",
    "import pandas as pd\n",
    "from sklearn.preprocessing import LabelEncoder\n",
    "import spacy\n",
    "from sklearn.model_selection import train_test_split"
   ]
  },
  {
   "cell_type": "markdown",
   "metadata": {},
   "source": [
    "First, let us load the data, convert the label from String to Numeric values"
   ]
  },
  {
   "cell_type": "code",
   "execution_count": 8,
   "metadata": {},
   "outputs": [
    {
     "data": {
      "text/html": [
       "<div>\n",
       "<style scoped>\n",
       "    .dataframe tbody tr th:only-of-type {\n",
       "        vertical-align: middle;\n",
       "    }\n",
       "\n",
       "    .dataframe tbody tr th {\n",
       "        vertical-align: top;\n",
       "    }\n",
       "\n",
       "    .dataframe thead th {\n",
       "        text-align: right;\n",
       "    }\n",
       "</style>\n",
       "<table border=\"1\" class=\"dataframe\">\n",
       "  <thead>\n",
       "    <tr style=\"text-align: right;\">\n",
       "      <th></th>\n",
       "      <th>Unnamed: 0</th>\n",
       "      <th>type</th>\n",
       "      <th>review</th>\n",
       "      <th>label</th>\n",
       "      <th>file</th>\n",
       "    </tr>\n",
       "  </thead>\n",
       "  <tbody>\n",
       "    <tr>\n",
       "      <td>0</td>\n",
       "      <td>0</td>\n",
       "      <td>test</td>\n",
       "      <td>Once again Mr. Costner has dragged out a movie...</td>\n",
       "      <td>0</td>\n",
       "      <td>0_2.txt</td>\n",
       "    </tr>\n",
       "    <tr>\n",
       "      <td>1</td>\n",
       "      <td>1</td>\n",
       "      <td>test</td>\n",
       "      <td>This is an example of why the majority of acti...</td>\n",
       "      <td>0</td>\n",
       "      <td>10000_4.txt</td>\n",
       "    </tr>\n",
       "    <tr>\n",
       "      <td>2</td>\n",
       "      <td>2</td>\n",
       "      <td>test</td>\n",
       "      <td>First of all I hate those moronic rappers, who...</td>\n",
       "      <td>0</td>\n",
       "      <td>10001_1.txt</td>\n",
       "    </tr>\n",
       "    <tr>\n",
       "      <td>3</td>\n",
       "      <td>3</td>\n",
       "      <td>test</td>\n",
       "      <td>Not even the Beatles could write songs everyon...</td>\n",
       "      <td>0</td>\n",
       "      <td>10002_3.txt</td>\n",
       "    </tr>\n",
       "    <tr>\n",
       "      <td>4</td>\n",
       "      <td>4</td>\n",
       "      <td>test</td>\n",
       "      <td>Brass pictures (movies is not a fitting word f...</td>\n",
       "      <td>0</td>\n",
       "      <td>10003_3.txt</td>\n",
       "    </tr>\n",
       "  </tbody>\n",
       "</table>\n",
       "</div>"
      ],
      "text/plain": [
       "   Unnamed: 0  type                                             review  label  \\\n",
       "0           0  test  Once again Mr. Costner has dragged out a movie...      0   \n",
       "1           1  test  This is an example of why the majority of acti...      0   \n",
       "2           2  test  First of all I hate those moronic rappers, who...      0   \n",
       "3           3  test  Not even the Beatles could write songs everyon...      0   \n",
       "4           4  test  Brass pictures (movies is not a fitting word f...      0   \n",
       "\n",
       "          file  \n",
       "0      0_2.txt  \n",
       "1  10000_4.txt  \n",
       "2  10001_1.txt  \n",
       "3  10002_3.txt  \n",
       "4  10003_3.txt  "
      ]
     },
     "execution_count": 8,
     "metadata": {},
     "output_type": "execute_result"
    }
   ],
   "source": [
    "pth = '~/Dropbox/DataRepo/IMDB_Movie/'\n",
    "fil = 'imdb_master.csv'\n",
    "encoder = LabelEncoder()\n",
    "df = pd.read_csv(pth+fil, encoding = \"ISO-8859-1\")\n",
    "df['label'] = encoder.fit_transform(df['label'])\n",
    "# select necessary columns\n",
    "# df = df[['review','label']]\n",
    "df.head(5)"
   ]
  },
  {
   "cell_type": "code",
   "execution_count": 9,
   "metadata": {},
   "outputs": [
    {
     "name": "stdout",
     "output_type": "stream",
     "text": [
      "length of train data:80000\n",
      "length of validation data:20000\n",
      "length of validation data:25000\n"
     ]
    }
   ],
   "source": [
    "# split data into test, validation and train\n",
    "train = df[df['type'] == 'train']\n",
    "test = df[df['type'] == 'test']\n",
    "# select necessary columns and discard the rest\n",
    "s_clm = ['review','label']\n",
    "train,valid = train_test_split(df,train_size=0.8)\n",
    "train,valid,test = train[s_clm],valid[s_clm],test[s_clm]\n",
    "print('length of train data:{}'.format(len(train)))\n",
    "print('length of validation data:{}'.format(len(valid)))\n",
    "print('length of validation data:{}'.format(len(test)))\n",
    "# write files\n",
    "train.to_csv(pth+'train.csv',index=False)\n",
    "valid.to_csv(pth+'valid.csv',index=False)\n",
    "test.to_csv(pth+'test.csv',index=False)"
   ]
  },
  {
   "cell_type": "code",
   "execution_count": 10,
   "metadata": {},
   "outputs": [],
   "source": [
    "# load the spacy english model, and return the tokenized text\n",
    "def tokenize_en(text):\n",
    "    \"\"\"\n",
    "    Tokenizes English text from a string into a list of strings (tokens)\n",
    "    \"\"\"\n",
    "    # load the spacy language model, NOTE make sure to download the model in terminal using: python -m spacy download <language name>\n",
    "    spacy_en = spacy.load('en')\n",
    "    # tokenize text\n",
    "    return [tok.text for tok in spacy_en.tokenizer(text)]\n",
    "\n",
    "txt = Field(sequential=True, tokenize='spacy', lower=True)\n",
    "label = LabelField(dtype = torch.int)\n",
    "# first you  have to say how the data is structured \n",
    "d_format = [('review',txt),('label',label)]"
   ]
  },
  {
   "cell_type": "code",
   "execution_count": 11,
   "metadata": {},
   "outputs": [],
   "source": [
    "trn,val,tst = TabularDataset.splits(path=pth,train='train.csv',validation='valid.csv',\\\n",
    "                                    test='test.csv',format='csv',skip_header=True,fields=d_format)"
   ]
  },
  {
   "cell_type": "markdown",
   "metadata": {},
   "source": [
    "Visualize the splits as follows"
   ]
  },
  {
   "cell_type": "code",
   "execution_count": 12,
   "metadata": {},
   "outputs": [
    {
     "name": "stdout",
     "output_type": "stream",
     "text": [
      "{'review': ['i', 'love', 'this', 'movie', '.', 'even', 'though', 'i', 'rated', 'it', 'a', '\"', '4', '\"', ',', 'that', \"'s\", 'because', 'the', 'acting', ',', 'the', 'plot', 'and', 'the', 'budget', 'were', 'all', 'slated', 'to', 'the', '\"', 'b', '\"', 'universe', 'even', 'before', 'this', 'movie', 'was', 'released', '.', 'but', 'that', \"'s\", 'ok', '!', 'it', 'is', 'an', 'entertaining', 'film', 'that', 'has', 'a', 'lot', 'to', 'offer', '!', '<', 'br', '/><br', '/>i', 'remember', 'what', 'leonard', 'maltin', 'said', 'about', '\"', 'plan', '9', 'from', 'outer', 'space', '\"', ':', 'a', 'film', 'so', 'bad', 'that', 'it', \"'s\", 'great', '!', 'lacking', 'the', 'ufo', '-', 'alien', 'plot', ',', 'the', 'thing', 'the', 'could', \"n't\", 'die', 'relies', 'on', 'the', 'supernatural', '(', 'divination', ',', 'a', 'buried', 'head', 'looking', 'for', 'it', \"'s\", 'body', ',', 'hypnosis', ',', 'etc', ')', 'to', 'tell', 'it', \"'s\", 'story', '.', 'the', 'acting', 'is', 'stilted', ',', 'the', 'camera', 'work', 'second', 'class', 'and', 'the', 'settings', 'are', 'limited', ',', 'but', 'boy', '!', 'what', 'a', 'movie', '!', 'this', 'film', 'is', 'available', 'in', 'the', 'bootleg', 'market', '.', 'if', 'you', 'find', 'a', 'copy', ',', 'buy', 'it', '!'], 'label': '0'}\n"
     ]
    }
   ],
   "source": [
    "print(vars(trn.examples[0]))"
   ]
  }
 ],
 "metadata": {
  "kernelspec": {
   "display_name": "Python 3",
   "language": "python",
   "name": "python3"
  },
  "language_info": {
   "codemirror_mode": {
    "name": "ipython",
    "version": 3
   },
   "file_extension": ".py",
   "mimetype": "text/x-python",
   "name": "python",
   "nbconvert_exporter": "python",
   "pygments_lexer": "ipython3",
   "version": "3.7.3"
  }
 },
 "nbformat": 4,
 "nbformat_minor": 2
}
