{
 "cells": [
  {
   "cell_type": "code",
   "execution_count": 2,
   "metadata": {},
   "outputs": [
    {
     "name": "stdout",
     "output_type": "stream",
     "text": [
      "Data loaded\n"
     ]
    }
   ],
   "source": [
    "import pandas as pd\n",
    "# load the data into panda dataframe\n",
    "data_file_name = \"~/Dropbox/DataRepo/AmazonReviews_Musical_Instruments/reviews_Musical_Instruments.json\"\n",
    "raw_df = pd.read_json(data_file_name, lines=True)\n",
    "# if you want to load a csv file then do\n",
    "# raw_df = pd.read_csv(data_file_name,encoding = \"ISO-8859-1\")\n",
    "print(\"Data loaded\")"
   ]
  },
  {
   "cell_type": "code",
   "execution_count": 3,
   "metadata": {},
   "outputs": [
    {
     "name": "stdout",
     "output_type": "stream",
     "text": [
      "<class 'pandas.core.frame.DataFrame'>\n",
      "RangeIndex: 500176 entries, 0 to 500175\n",
      "Data columns (total 9 columns):\n",
      "reviewerID        500176 non-null object\n",
      "asin              500176 non-null object\n",
      "reviewerName      497590 non-null object\n",
      "helpful           500176 non-null object\n",
      "reviewText        500176 non-null object\n",
      "overall           500176 non-null int64\n",
      "summary           500176 non-null object\n",
      "unixReviewTime    500176 non-null int64\n",
      "reviewTime        500176 non-null object\n",
      "dtypes: int64(2), object(7)\n",
      "memory usage: 34.3+ MB\n"
     ]
    }
   ],
   "source": [
    "# View information about the data\n",
    "raw_df.info()"
   ]
  },
  {
   "cell_type": "code",
   "execution_count": 4,
   "metadata": {},
   "outputs": [
    {
     "name": "stdout",
     "output_type": "stream",
     "text": [
      "Raw Corpus contains 241,653,315 characters\n"
     ]
    }
   ],
   "source": [
    "# Convert all the review text into a long string and print its length\n",
    "raw_corpus = u''.join(raw_df['reviewText']+\" \")\n",
    "print(\"Raw Corpus contains {0:,} characters\".format(len(raw_corpus)))"
   ]
  },
  {
   "cell_type": "markdown",
   "metadata": {},
   "source": [
    "We will be using Punkt Tokenizer as the first pre-processing step. Punkt tokenizer is like Sentence tokenizer, which essentially detectects bundaries in a setnence and splits them. More details can be found here: https://subscription.packtpub.com/book/application_development/9781782167853/1/ch01lvl1sec12/training-a-sentence-tokenizer"
   ]
  },
  {
   "cell_type": "code",
   "execution_count": 5,
   "metadata": {},
   "outputs": [
    {
     "name": "stdout",
     "output_type": "stream",
     "text": [
      "The punkt tokenizer is downloaded\n"
     ]
    },
    {
     "name": "stderr",
     "output_type": "stream",
     "text": [
      "[nltk_data] Downloading package punkt to /home/vineeth/nltk_data...\n",
      "[nltk_data]   Package punkt is already up-to-date!\n"
     ]
    }
   ],
   "source": [
    "# import natural language toolkit\n",
    "import nltk\n",
    "# download the punkt tokenizer\n",
    "nltk.download('punkt')\n",
    "print(\"The punkt tokenizer is downloaded\")"
   ]
  },
  {
   "cell_type": "code",
   "execution_count": 6,
   "metadata": {},
   "outputs": [
    {
     "name": "stdout",
     "output_type": "stream",
     "text": [
      "The punkt tokenizer is loaded\n",
      "We have 2,492,388 raw sentences\n"
     ]
    }
   ],
   "source": [
    "# Load the punkt tokenizer\n",
    "tokenizer = nltk.data.load(\"tokenizers/punkt/english.pickle\")\n",
    "print(\"The punkt tokenizer is loaded\")\n",
    "# we tokenize the raw string into raw sentences\n",
    "raw_sentences = tokenizer.tokenize(raw_corpus)\n",
    "print(\"We have {0:,} raw sentences\".format(len(raw_sentences)))"
   ]
  },
  {
   "cell_type": "code",
   "execution_count": 7,
   "metadata": {},
   "outputs": [],
   "source": [
    "import re, tqdm\n",
    "# Clean and split sentence into words\n",
    "def clean_and_split_str(string):\n",
    "    strip_special_chars = re.compile(\"[^A-Za-z]+\")\n",
    "    string = re.sub(strip_special_chars, \" \", string)\n",
    "    return string.strip().split()"
   ]
  },
  {
   "cell_type": "code",
   "execution_count": 8,
   "metadata": {},
   "outputs": [
    {
     "name": "stdout",
     "output_type": "stream",
     "text": [
      "We have 2,492,388 clean sentences\n"
     ]
    }
   ],
   "source": [
    "# clean each raw sentences and build the list of sentences\n",
    "sentences = []\n",
    "for raw_sent in raw_sentences:\n",
    "    if len(raw_sent) > 0:\n",
    "        sentences.append(clean_and_split_str(raw_sent))\n",
    "print(\"We have {0:,} clean sentences\".format(len(sentences)))"
   ]
  },
  {
   "cell_type": "code",
   "execution_count": 9,
   "metadata": {},
   "outputs": [
    {
     "data": {
      "text/plain": [
       "['Aida',\n",
       " 'was',\n",
       " 'first',\n",
       " 'performed',\n",
       " 'at',\n",
       " 'the',\n",
       " 'Khedivial',\n",
       " 'Opera',\n",
       " 'House',\n",
       " 'in',\n",
       " 'Cairo',\n",
       " 'on',\n",
       " 'December',\n",
       " 'conducted',\n",
       " 'by',\n",
       " 'Giovanni',\n",
       " 'Bottesini',\n",
       " 'Overview',\n",
       " 'Aida',\n",
       " 'an',\n",
       " 'Ethiopian',\n",
       " 'princess',\n",
       " 'is',\n",
       " 'captured',\n",
       " 'and',\n",
       " 'brought',\n",
       " 'into',\n",
       " 'slavery',\n",
       " 'in',\n",
       " 'Egypt']"
      ]
     },
     "execution_count": 9,
     "metadata": {},
     "output_type": "execute_result"
    }
   ],
   "source": [
    "sentences[10]"
   ]
  },
  {
   "cell_type": "code",
   "execution_count": 10,
   "metadata": {},
   "outputs": [
    {
     "name": "stdout",
     "output_type": "stream",
     "text": [
      ".the music slowed at times for structural rigour.. .\n",
      "\n",
      "['the', 'music', 'slowed', 'at', 'times', 'for', 'structural', 'rigour']\n"
     ]
    }
   ],
   "source": [
    "print(raw_sentences[20])\n",
    "print()\n",
    "print(sentences[20])"
   ]
  },
  {
   "cell_type": "code",
   "execution_count": 12,
   "metadata": {},
   "outputs": [
    {
     "name": "stdout",
     "output_type": "stream",
     "text": [
      "The dataset corpus contains 44,962,028 tokens\n"
     ]
    }
   ],
   "source": [
    "token_count = sum([len(sentence) for sentence in sentences])\n",
    "print(\"The dataset corpus contains {0:,} tokens\".format(token_count))"
   ]
  },
  {
   "cell_type": "code",
   "execution_count": 13,
   "metadata": {},
   "outputs": [],
   "source": [
    "import multiprocessing\n",
    "\n",
    "#Dimensionality of the resulting word vectors\n",
    "num_features = 300\n",
    "\n",
    "#Minimum word count threshold\n",
    "min_word_count = 4\n",
    "\n",
    "#Number of threads to run in parallel\n",
    "num_workers = multiprocessing.cpu_count()\n",
    "\n",
    "#Context window length\n",
    "context_size = 4\n",
    "\n",
    "#Seed for the RNG, to make the result reproducible\n",
    "seed = 1"
   ]
  },
  {
   "cell_type": "code",
   "execution_count": 15,
   "metadata": {},
   "outputs": [],
   "source": [
    "import gensim\n",
    "\n",
    "doc2vec_model = gensim.models.doc2vec.Doc2Vec(\n",
    "    seed=seed,\n",
    "    workers=num_workers, \n",
    "    vector_size=num_features, \n",
    "    min_count=min_word_count,\n",
    "    epochs = 10\n",
    "    window=context_size)"
   ]
  },
  {
   "cell_type": "code",
   "execution_count": 16,
   "metadata": {},
   "outputs": [],
   "source": [
    "# for Doc2Vec to work, we need to tag the sentences with their line number\n",
    "sentences = [gensim.models.doc2vec.TaggedDocument(s,[i]) for i,s in enumerate(sentences)]"
   ]
  },
  {
   "cell_type": "code",
   "execution_count": 17,
   "metadata": {},
   "outputs": [
    {
     "data": {
      "text/plain": [
       "TaggedDocument(words=['The', 'portfolio', 'is', 'fine', 'except', 'for', 'the', 'fact', 'that', 'the', 'last', 'movement', 'of', 'sonata', 'is', 'missing'], tags=[0])"
      ]
     },
     "execution_count": 17,
     "metadata": {},
     "output_type": "execute_result"
    }
   ],
   "source": [
    "sentences[0]"
   ]
  },
  {
   "cell_type": "code",
   "execution_count": 18,
   "metadata": {},
   "outputs": [
    {
     "name": "stdout",
     "output_type": "stream",
     "text": [
      "The vocabword2vec_model.iterulary is built\n",
      "Word2Vec vocabulary length:  80326\n"
     ]
    }
   ],
   "source": [
    "doc2vec_model.build_vocab(sentences)\n",
    "print(\"The vocabword2vec_model.iterulary is built\")\n",
    "print(\"Word2Vec vocabulary length: \", len(doc2vec_model.wv.vocab))"
   ]
  },
  {
   "cell_type": "code",
   "execution_count": 20,
   "metadata": {},
   "outputs": [
    {
     "name": "stdout",
     "output_type": "stream",
     "text": [
      "Training finished\n"
     ]
    }
   ],
   "source": [
    "#Start training the model\n",
    "doc2vec_model.train(documents=sentences,total_examples=doc2vec_model.corpus_count,epochs=doc2vec_model.epochs)\n",
    "print(\"Training finished\")"
   ]
  },
  {
   "cell_type": "code",
   "execution_count": 23,
   "metadata": {},
   "outputs": [
    {
     "name": "stdout",
     "output_type": "stream",
     "text": [
      "Model saved\n"
     ]
    }
   ],
   "source": [
    "#Save the model\n",
    "doc2vec_model.save(\"reviews_Musical_Instruments.d2v\")\n",
    "print(\"Model saved\")"
   ]
  }
 ],
 "metadata": {
  "kernelspec": {
   "display_name": "Python 3",
   "language": "python",
   "name": "python3"
  },
  "language_info": {
   "codemirror_mode": {
    "name": "ipython",
    "version": 3
   },
   "file_extension": ".py",
   "mimetype": "text/x-python",
   "name": "python",
   "nbconvert_exporter": "python",
   "pygments_lexer": "ipython3",
   "version": "3.7.4"
  }
 },
 "nbformat": 4,
 "nbformat_minor": 2
}
